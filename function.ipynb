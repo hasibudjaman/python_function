{
 "cells": [
  {
   "cell_type": "markdown",
   "id": "08ed00fd-13f9-4061-ad8a-f5e1d7dfa58c",
   "metadata": {},
   "source": [
    "# creating a Function\n"
   ]
  },
  {
   "cell_type": "code",
   "execution_count": 2,
   "id": "77ad1560-2be6-43fd-b7fa-cbdeac1c6151",
   "metadata": {},
   "outputs": [
    {
     "name": "stdout",
     "output_type": "stream",
     "text": [
      "hello from a function\n"
     ]
    }
   ],
   "source": [
    "def my_function():\n",
    "    print(\"hello from a function\")\n",
    "my_function()    \n",
    "    "
   ]
  },
  {
   "cell_type": "markdown",
   "id": "d4af4c9f-b3ba-42a2-8d3a-d53fb22ff5eb",
   "metadata": {},
   "source": [
    "# Arguments pass"
   ]
  },
  {
   "cell_type": "code",
   "execution_count": 56,
   "id": "a13a7f03-53cc-4434-b12a-5bc703808a57",
   "metadata": {},
   "outputs": [
    {
     "name": "stdout",
     "output_type": "stream",
     "text": [
      "emailrefsnes\n",
      "numberrefsnes\n",
      "idrefsnes\n"
     ]
    }
   ],
   "source": [
    "def my_function(fname):\n",
    "    print(fname  +  \"refsnes\")\n",
    "    \n",
    "my_function(\"email\")\n",
    "my_function(\"number\")\n",
    "my_function(\"id\")\n"
   ]
  },
  {
   "cell_type": "markdown",
   "id": "644507e3-ece2-4264-99b4-2c58ad5cab0b",
   "metadata": {},
   "source": [
    "# Number of Arguments "
   ]
  },
  {
   "cell_type": "code",
   "execution_count": 8,
   "id": "e2f52150-929d-4172-b924-198c4ebb2276",
   "metadata": {},
   "outputs": [
    {
     "name": "stdout",
     "output_type": "stream",
     "text": [
      "frist name is : hasib\n",
      " id number is :  232400009\n",
      "department is   CSE\n"
     ]
    }
   ],
   "source": [
    "def my_function(name,id,department):\n",
    "    print(\"frist name is :\", name)\n",
    "    print(\" id number is : \", id)\n",
    "    print(\"department is \", department )\n",
    "          \n",
    "    \n",
    "my_function(\"hasib\",232400009,\" CSE\")    \n",
    "    "
   ]
  },
  {
   "cell_type": "code",
   "execution_count": 26,
   "id": "405b415f-7bc6-4ae0-b2c4-3f5cef6be3e7",
   "metadata": {},
   "outputs": [
    {
     "name": "stdout",
     "output_type": "stream",
     "text": [
      "frist name is : hasib\n",
      "department and id is: CSE 232400009\n"
     ]
    }
   ],
   "source": [
    "def my_function(name,id,department):\n",
    "    print(\"frist name is :\", name)\n",
    "    print (\"department and id is:\"+ department , id)\n",
    "          \n",
    "    \n",
    "my_function(\"hasib\",232400009,\" CSE\")    \n",
    "    "
   ]
  },
  {
   "cell_type": "markdown",
   "id": "75f49d02-53db-42f4-b582-7bc8b88880fa",
   "metadata": {},
   "source": [
    "# Arbitrary arguments,* args"
   ]
  },
  {
   "cell_type": "code",
   "execution_count": 23,
   "id": "c26cffef-5d14-4a6d-9166-4c739f7ea3c3",
   "metadata": {},
   "outputs": [
    {
     "name": "stdout",
     "output_type": "stream",
     "text": [
      "all cousine list is : ('hasib', 'selim')\n"
     ]
    }
   ],
   "source": [
    "def my_function(*kids):\n",
    "    print(\"all cousine list is :\", kids[0:2])\n",
    "my_function(\"hasib\",\"selim\",\"tanvi\",\"foisal\",\"taniya\",\"avi\")\n",
    "          "
   ]
  },
  {
   "cell_type": "code",
   "execution_count": 27,
   "id": "70048711-89fb-40a7-9df1-ddc7d37ed2fe",
   "metadata": {},
   "outputs": [
    {
     "name": "stdout",
     "output_type": "stream",
     "text": [
      "His last name is Refsnes\n"
     ]
    }
   ],
   "source": [
    "def my_function(**kid):\n",
    "  print(\"His last name is \" + kid[\"lname\"])\n",
    "\n",
    "my_function(fname = \"Tobias\", lname = \"Refsnes\")\n",
    "\n"
   ]
  },
  {
   "cell_type": "code",
   "execution_count": 34,
   "id": "6849332d-66c5-4293-9c2a-2cc3632457e4",
   "metadata": {},
   "outputs": [
    {
     "name": "stdout",
     "output_type": "stream",
     "text": [
      "my name is : hasib\n"
     ]
    }
   ],
   "source": [
    "def my_function(**kids):\n",
    "    print(\"my name is : \" + kids['my'])\n",
    "my_function(my='hasib',her='baby')    "
   ]
  },
  {
   "cell_type": "markdown",
   "id": "0d7e95ee-9183-4d38-9a2d-51a27dbf1f1b",
   "metadata": {},
   "source": [
    "# default parameter value"
   ]
  },
  {
   "cell_type": "code",
   "execution_count": 35,
   "id": "093601f0-bebb-47d9-82a2-9c3f7802436e",
   "metadata": {},
   "outputs": [
    {
     "name": "stdout",
     "output_type": "stream",
     "text": [
      "I am from Sweden\n",
      "I am from India\n",
      "I am from Norway\n",
      "I am from Brazil\n"
     ]
    }
   ],
   "source": [
    "def my_function(country = \"Norway\"):\n",
    "    \n",
    "    print(\"I am from \" + country)\n",
    "\n",
    "my_function(\"Sweden\")\n",
    "my_function(\"India\")\n",
    "my_function()\n",
    "my_function(\"Brazil\") "
   ]
  },
  {
   "cell_type": "markdown",
   "id": "fdae99d3-ada3-44e8-9291-9b44728479f0",
   "metadata": {},
   "source": [
    "# Passing a List as an Argument"
   ]
  },
  {
   "cell_type": "code",
   "execution_count": 36,
   "id": "4d187239-fd3b-453d-9e37-3ba5e8654ad9",
   "metadata": {},
   "outputs": [
    {
     "name": "stdout",
     "output_type": "stream",
     "text": [
      "apple\n",
      "banana\n",
      "cherry\n"
     ]
    }
   ],
   "source": [
    "def my_function(food):\n",
    "  for x in food:\n",
    "    print(x)\n",
    "\n",
    "fruits = [\"apple\", \"banana\", \"cherry\"]\n",
    "\n",
    "my_function(fruits)"
   ]
  },
  {
   "cell_type": "markdown",
   "id": "1a12a954-becf-48a7-9311-acc06985ce67",
   "metadata": {},
   "source": [
    "# Return Values"
   ]
  },
  {
   "cell_type": "code",
   "execution_count": 37,
   "id": "af01afff-7427-48b2-97e0-e34372ab579c",
   "metadata": {},
   "outputs": [
    {
     "name": "stdout",
     "output_type": "stream",
     "text": [
      "15\n",
      "25\n",
      "45\n"
     ]
    }
   ],
   "source": [
    "def my_function(x):\n",
    "  return 5 * x\n",
    "\n",
    "print(my_function(3))\n",
    "print(my_function(5))\n",
    "print(my_function(9))\n"
   ]
  },
  {
   "cell_type": "markdown",
   "id": "73d09f6c-4541-4e9c-8238-91059ca5f942",
   "metadata": {},
   "source": [
    "# The pass Statement"
   ]
  },
  {
   "cell_type": "code",
   "execution_count": 38,
   "id": "4827fc67-360b-4446-92df-57634d17db7f",
   "metadata": {},
   "outputs": [],
   "source": [
    "def myfunction():\n",
    "  pass"
   ]
  },
  {
   "cell_type": "code",
   "execution_count": null,
   "id": "13a1e475-5a1a-4929-8fd4-cdccfdac0192",
   "metadata": {},
   "outputs": [],
   "source": [
    "# pass = “এই জায়গাটা আপাতত ফাঁকা রাখলাম, পরে কোড লিখব”"
   ]
  },
  {
   "cell_type": "markdown",
   "id": "e50878e8-ee03-4332-a203-69bafc0bab1b",
   "metadata": {},
   "source": [
    "# Positional-Only Arguments"
   ]
  },
  {
   "cell_type": "code",
   "execution_count": 39,
   "id": "4e41570d-e472-4143-8a34-a130e0e380e8",
   "metadata": {},
   "outputs": [
    {
     "name": "stdout",
     "output_type": "stream",
     "text": [
      "3\n"
     ]
    }
   ],
   "source": [
    "def my_function(x, /):\n",
    "  print(x)\n",
    "\n",
    "my_function(3)\n"
   ]
  },
  {
   "cell_type": "code",
   "execution_count": null,
   "id": "7eee6bc4-4805-462c-8366-fcb25c357512",
   "metadata": {},
   "outputs": [],
   "source": [
    "# / মানে হলো function বলছে “এই parameter শুধু সরাসরি value দিয়ে দিতে হবে, নাম দিয়ে নয়”।"
   ]
  },
  {
   "cell_type": "code",
   "execution_count": 40,
   "id": "b7268581-7787-43b8-96c7-12a4b3b30f84",
   "metadata": {},
   "outputs": [
    {
     "ename": "TypeError",
     "evalue": "my_function() got some positional-only arguments passed as keyword arguments: 'x'",
     "output_type": "error",
     "traceback": [
      "\u001b[1;31m---------------------------------------------------------------------------\u001b[0m",
      "\u001b[1;31mTypeError\u001b[0m                                 Traceback (most recent call last)",
      "Cell \u001b[1;32mIn[40], line 4\u001b[0m\n\u001b[0;32m      1\u001b[0m \u001b[38;5;28;01mdef\u001b[39;00m\u001b[38;5;250m \u001b[39m\u001b[38;5;21mmy_function\u001b[39m(x, \u001b[38;5;241m/\u001b[39m):\n\u001b[0;32m      2\u001b[0m   \u001b[38;5;28mprint\u001b[39m(x)\n\u001b[1;32m----> 4\u001b[0m my_function(x \u001b[38;5;241m=\u001b[39m \u001b[38;5;241m3\u001b[39m)\n",
      "\u001b[1;31mTypeError\u001b[0m: my_function() got some positional-only arguments passed as keyword arguments: 'x'"
     ]
    }
   ],
   "source": [
    "def my_function(x, /):\n",
    "  print(x)\n",
    "\n",
    "my_function(x = 3)\n"
   ]
  },
  {
   "cell_type": "markdown",
   "id": "aaf8ec24-b3de-494a-8a23-f7fcaf44b471",
   "metadata": {},
   "source": [
    "# Keyword-Only Arguments"
   ]
  },
  {
   "cell_type": "code",
   "execution_count": 41,
   "id": "ecceed49-c7c5-4c54-8690-2911590f7eb1",
   "metadata": {},
   "outputs": [
    {
     "name": "stdout",
     "output_type": "stream",
     "text": [
      "3\n"
     ]
    }
   ],
   "source": [
    "def my_function(*, x):\n",
    "  print(x)\n",
    "\n",
    "my_function(x = 3)\n"
   ]
  },
  {
   "cell_type": "code",
   "execution_count": 43,
   "id": "8ee4d8a8-a152-4aa8-b922-3f12655f9324",
   "metadata": {},
   "outputs": [
    {
     "ename": "TypeError",
     "evalue": "my_function() takes 0 positional arguments but 1 was given",
     "output_type": "error",
     "traceback": [
      "\u001b[1;31m---------------------------------------------------------------------------\u001b[0m",
      "\u001b[1;31mTypeError\u001b[0m                                 Traceback (most recent call last)",
      "Cell \u001b[1;32mIn[43], line 4\u001b[0m\n\u001b[0;32m      1\u001b[0m \u001b[38;5;28;01mdef\u001b[39;00m\u001b[38;5;250m \u001b[39m\u001b[38;5;21mmy_function\u001b[39m(\u001b[38;5;241m*\u001b[39m,x):\n\u001b[0;32m      2\u001b[0m   \u001b[38;5;28mprint\u001b[39m(x)\n\u001b[1;32m----> 4\u001b[0m my_function(\u001b[38;5;241m3\u001b[39m)\n",
      "\u001b[1;31mTypeError\u001b[0m: my_function() takes 0 positional arguments but 1 was given"
     ]
    }
   ],
   "source": [
    "def my_function(*,x):\n",
    "  print(x)\n",
    "\n",
    "my_function(3)"
   ]
  },
  {
   "cell_type": "markdown",
   "id": "211a6b71-4ca9-49c9-8f95-c78507df2960",
   "metadata": {},
   "source": [
    "#  Combine Positional-Only and Keyword-Only   "
   ]
  },
  {
   "cell_type": "code",
   "execution_count": 45,
   "id": "b46e6229-6ff6-4ca7-b689-240fb627423e",
   "metadata": {},
   "outputs": [
    {
     "name": "stdout",
     "output_type": "stream",
     "text": [
      "82\n"
     ]
    }
   ],
   "source": [
    "def my_function(a,b,/,*, c,d):\n",
    "    print(a+b+c+d)\n",
    "my_function(5,6,c=4,d=67)    "
   ]
  },
  {
   "cell_type": "markdown",
   "id": "1b234f21-8e52-48ed-a27f-269c171e081b",
   "metadata": {},
   "source": [
    "# Recursion"
   ]
  },
  {
   "cell_type": "code",
   "execution_count": 53,
   "id": "fd3d62e5-ecdd-4060-93e8-94d53f7d3563",
   "metadata": {},
   "outputs": [
    {
     "name": "stdout",
     "output_type": "stream",
     "text": [
      "Recursion Example Results:\n",
      "1\n",
      "3\n",
      "6\n",
      "10\n",
      "15\n",
      "21\n"
     ]
    },
    {
     "data": {
      "text/plain": [
       "21"
      ]
     },
     "execution_count": 53,
     "metadata": {},
     "output_type": "execute_result"
    }
   ],
   "source": [
    " def tri_recursion(k):\n",
    "  if(k > 0):\n",
    "    result = k + tri_recursion(k - 1)\n",
    "    print(result)\n",
    "  else:\n",
    "    result = 0\n",
    "  return result\n",
    "\n",
    "print(\"Recursion Example Results:\")\n",
    "tri_recursion(6)\n"
   ]
  },
  {
   "cell_type": "code",
   "execution_count": 55,
   "id": "e4ca1cef-3f97-4d56-848a-50c2b37b9731",
   "metadata": {},
   "outputs": [
    {
     "name": "stdout",
     "output_type": "stream",
     "text": [
      "recursion Example results :\n",
      "1\n",
      "3\n",
      "6\n",
      "10\n",
      "15\n",
      "21\n"
     ]
    },
    {
     "data": {
      "text/plain": [
       "21"
      ]
     },
     "execution_count": 55,
     "metadata": {},
     "output_type": "execute_result"
    }
   ],
   "source": [
    "def recursion(k):\n",
    "    if (k>0):\n",
    "        result=k + recursion(k-1)\n",
    "        print(result)\n",
    "    else:\n",
    "        result=0\n",
    "    return result\n",
    "print(\"recursion Example results :\")\n",
    "recursion(6)"
   ]
  },
  {
   "cell_type": "code",
   "execution_count": null,
   "id": "097daf09-eab6-4a4d-aead-d437f91e2d50",
   "metadata": {},
   "outputs": [],
   "source": []
  }
 ],
 "metadata": {
  "kernelspec": {
   "display_name": "Python 3 (ipykernel)",
   "language": "python",
   "name": "python3"
  },
  "language_info": {
   "codemirror_mode": {
    "name": "ipython",
    "version": 3
   },
   "file_extension": ".py",
   "mimetype": "text/x-python",
   "name": "python",
   "nbconvert_exporter": "python",
   "pygments_lexer": "ipython3",
   "version": "3.13.5"
  }
 },
 "nbformat": 4,
 "nbformat_minor": 5
}
